{
 "cells": [
  {
   "cell_type": "code",
   "execution_count": 1,
   "metadata": {},
   "outputs": [],
   "source": [
    "from _utils import set_tags_album, DEFAULT_MUSIC_ALBUM, DEFAULT_VIDEO_ALBUM\n",
    "\n",
    "artist = \"HACHI\""
   ]
  },
  {
   "cell_type": "code",
   "execution_count": null,
   "metadata": {},
   "outputs": [],
   "source": [
    "set_tags_album(\n",
    "    artist=artist,\n",
    "    album=\"Close to heart\",\n",
    "    date=\"2023\",\n",
    ")"
   ]
  },
  {
   "cell_type": "code",
   "execution_count": null,
   "metadata": {},
   "outputs": [],
   "source": [
    "set_tags_album(\n",
    "    artist=artist,\n",
    "    album=\"HARMONICS\",\n",
    "    date=\"2023\",\n",
    ")"
   ]
  },
  {
   "cell_type": "code",
   "execution_count": null,
   "metadata": {},
   "outputs": [],
   "source": [
    "set_tags_album(\n",
    "    artist=artist,\n",
    "    album=\"『偽りのアリス』 オリジナルサウンドトラックvol.2\",\n",
    "    date=\"2022\",\n",
    ")"
   ]
  },
  {
   "cell_type": "code",
   "execution_count": null,
   "metadata": {},
   "outputs": [],
   "source": [
    "set_tags_album(\n",
    "    artist=artist,\n",
    "    album=\"Midnight blue\",\n",
    "    date=\"2022\",\n",
    ")"
   ]
  },
  {
   "cell_type": "code",
   "execution_count": null,
   "metadata": {},
   "outputs": [],
   "source": [
    "set_tags_album(\n",
    "    artist=artist,\n",
    "    album=\"DominatoR B×H\",\n",
    "    date=\"2021\",\n",
    ")"
   ]
  },
  {
   "cell_type": "code",
   "execution_count": null,
   "metadata": {},
   "outputs": [],
   "source": [
    "set_tags_album(\n",
    "    artist=artist,\n",
    "    album=\"トビウオ\",\n",
    "    date=\"2016\",\n",
    ")"
   ]
  },
  {
   "cell_type": "code",
   "execution_count": null,
   "metadata": {},
   "outputs": [],
   "source": [
    "set_tags_album(\n",
    "    artist=artist,\n",
    "    album=\"HACHI BEST\",\n",
    "    date=\"2015\",\n",
    ")"
   ]
  },
  {
   "cell_type": "code",
   "execution_count": null,
   "metadata": {},
   "outputs": [],
   "source": [
    "set_tags_album(\n",
    "    artist=artist,\n",
    "    album=\"Birthday Acoustic Live\",\n",
    "    date=\"2024\",\n",
    ")"
   ]
  },
  {
   "cell_type": "code",
   "execution_count": 2,
   "metadata": {},
   "outputs": [
    {
     "name": "stderr",
     "output_type": "stream",
     "text": [
      "100%|██████████| 51/51 [00:00<00:00, 220.19it/s]\n"
     ]
    },
    {
     "name": "stdout",
     "output_type": "stream",
     "text": [
      "[success] Set tags\n"
     ]
    },
    {
     "name": "stderr",
     "output_type": "stream",
     "text": [
      "100%|██████████| 3417/3417 [00:00<00:00, 55343.14it/s]\n",
      "100%|██████████| 51/51 [00:00<00:00, 450.97it/s]"
     ]
    },
    {
     "name": "stdout",
     "output_type": "stream",
     "text": [
      "[success] Move incoming files to album directory\n"
     ]
    },
    {
     "name": "stderr",
     "output_type": "stream",
     "text": [
      "\n"
     ]
    }
   ],
   "source": [
    "set_tags_album(\n",
    "    artist=artist,\n",
    "    album=DEFAULT_MUSIC_ALBUM,\n",
    "    date=None\n",
    ")"
   ]
  },
  {
   "cell_type": "code",
   "execution_count": 3,
   "metadata": {},
   "outputs": [
    {
     "name": "stderr",
     "output_type": "stream",
     "text": [
      "100%|██████████| 60/60 [00:14<00:00,  4.10it/s]\n"
     ]
    },
    {
     "name": "stdout",
     "output_type": "stream",
     "text": [
      "[success] Set tags\n"
     ]
    },
    {
     "name": "stderr",
     "output_type": "stream",
     "text": [
      "100%|██████████| 4740/4740 [00:00<00:00, 177488.34it/s]\n",
      "100%|██████████| 60/60 [00:00<00:00, 174.32it/s]"
     ]
    },
    {
     "name": "stdout",
     "output_type": "stream",
     "text": [
      "[success] Move incoming files to album directory\n"
     ]
    },
    {
     "name": "stderr",
     "output_type": "stream",
     "text": [
      "\n"
     ]
    }
   ],
   "source": [
    "set_tags_album(\n",
    "    artist=artist,\n",
    "    album=DEFAULT_VIDEO_ALBUM,\n",
    "    date=None\n",
    ")"
   ]
  }
 ],
 "metadata": {
  "kernelspec": {
   "display_name": "base",
   "language": "python",
   "name": "python3"
  },
  "language_info": {
   "codemirror_mode": {
    "name": "ipython",
    "version": 3
   },
   "file_extension": ".py",
   "mimetype": "text/x-python",
   "name": "python",
   "nbconvert_exporter": "python",
   "pygments_lexer": "ipython3",
   "version": "3.10.12"
  }
 },
 "nbformat": 4,
 "nbformat_minor": 2
}
