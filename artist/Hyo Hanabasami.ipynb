{
 "cells": [
  {
   "cell_type": "code",
   "execution_count": 2,
   "metadata": {},
   "outputs": [],
   "source": [
    "from _utils import set_tags_album, DEFAULT_MUSIC_ALBUM, DEFAULT_VIDEO_ALBUM\n",
    "\n",
    "artist = \"Kyo Hanabasami\""
   ]
  },
  {
   "cell_type": "code",
   "execution_count": 3,
   "metadata": {},
   "outputs": [
    {
     "name": "stderr",
     "output_type": "stream",
     "text": [
      "  0%|          | 0/6 [00:00<?, ?it/s]"
     ]
    },
    {
     "name": "stderr",
     "output_type": "stream",
     "text": [
      "100%|██████████| 6/6 [00:01<00:00,  4.36it/s]\n"
     ]
    },
    {
     "name": "stdout",
     "output_type": "stream",
     "text": [
      "[success] Set tags\n"
     ]
    },
    {
     "name": "stderr",
     "output_type": "stream",
     "text": [
      "0it [00:00, ?it/s]\n",
      "100%|██████████| 6/6 [00:00<00:00, 131.57it/s]"
     ]
    },
    {
     "name": "stdout",
     "output_type": "stream",
     "text": [
      "[success] Move incoming files to album directory\n"
     ]
    },
    {
     "name": "stderr",
     "output_type": "stream",
     "text": [
      "\n"
     ]
    }
   ],
   "source": [
    "set_tags_album(\n",
    "    artist=artist,\n",
    "    album=\"Horologium Florae\",\n",
    "    date=\"2023\",\n",
    ")"
   ]
  },
  {
   "cell_type": "code",
   "execution_count": 4,
   "metadata": {},
   "outputs": [
    {
     "name": "stderr",
     "output_type": "stream",
     "text": [
      "100%|██████████| 11/11 [00:02<00:00,  5.19it/s]\n"
     ]
    },
    {
     "name": "stdout",
     "output_type": "stream",
     "text": [
      "[success] Set tags\n"
     ]
    },
    {
     "name": "stderr",
     "output_type": "stream",
     "text": [
      "100%|██████████| 66/66 [00:00<00:00, 744150.71it/s]\n",
      "100%|██████████| 11/11 [00:00<00:00, 100.45it/s]"
     ]
    },
    {
     "name": "stdout",
     "output_type": "stream",
     "text": [
      "[success] Move incoming files to album directory\n"
     ]
    },
    {
     "name": "stderr",
     "output_type": "stream",
     "text": [
      "\n"
     ]
    }
   ],
   "source": [
    "set_tags_album(\n",
    "    artist=artist,\n",
    "    album=\"Petrichor\",\n",
    "    date=\"2021\",\n",
    ")"
   ]
  },
  {
   "cell_type": "code",
   "execution_count": 5,
   "metadata": {},
   "outputs": [
    {
     "name": "stderr",
     "output_type": "stream",
     "text": [
      "100%|██████████| 4/4 [00:00<00:00,  4.90it/s]\n"
     ]
    },
    {
     "name": "stdout",
     "output_type": "stream",
     "text": [
      "[success] Set tags\n"
     ]
    },
    {
     "name": "stderr",
     "output_type": "stream",
     "text": [
      "100%|██████████| 68/68 [00:00<00:00, 15418.57it/s]\n",
      "100%|██████████| 4/4 [00:00<00:00, 409.85it/s]"
     ]
    },
    {
     "name": "stdout",
     "output_type": "stream",
     "text": [
      "[success] Move incoming files to album directory\n"
     ]
    },
    {
     "name": "stderr",
     "output_type": "stream",
     "text": [
      "\n"
     ]
    }
   ],
   "source": [
    "set_tags_album(\n",
    "    artist=artist,\n",
    "    album=\"Myosøtis\",\n",
    "    date=\"2020\",\n",
    ")"
   ]
  },
  {
   "cell_type": "code",
   "execution_count": 6,
   "metadata": {},
   "outputs": [
    {
     "name": "stderr",
     "output_type": "stream",
     "text": [
      "100%|██████████| 25/25 [00:05<00:00,  4.17it/s]\n"
     ]
    },
    {
     "name": "stdout",
     "output_type": "stream",
     "text": [
      "[success] Set tags\n"
     ]
    },
    {
     "name": "stderr",
     "output_type": "stream",
     "text": [
      "100%|██████████| 450/450 [00:00<00:00, 6246.30it/s]\n",
      "100%|██████████| 25/25 [00:00<00:00, 225.39it/s]"
     ]
    },
    {
     "name": "stdout",
     "output_type": "stream",
     "text": [
      "[success] Move incoming files to album directory\n"
     ]
    },
    {
     "name": "stderr",
     "output_type": "stream",
     "text": [
      "\n"
     ]
    }
   ],
   "source": [
    "set_tags_album(\n",
    "    artist=artist,\n",
    "    album=DEFAULT_MUSIC_ALBUM,\n",
    "    date=None\n",
    ")"
   ]
  },
  {
   "cell_type": "code",
   "execution_count": 7,
   "metadata": {},
   "outputs": [
    {
     "name": "stderr",
     "output_type": "stream",
     "text": [
      "100%|██████████| 95/95 [00:11<00:00,  8.59it/s]\n"
     ]
    },
    {
     "name": "stdout",
     "output_type": "stream",
     "text": [
      "[success] Set tags\n"
     ]
    },
    {
     "name": "stderr",
     "output_type": "stream",
     "text": [
      "100%|██████████| 2280/2280 [00:00<00:00, 51184.27it/s]\n"
     ]
    },
    {
     "name": "stdout",
     "output_type": "stream",
     "text": [
      "[Errno 2] No such file or directory: '/mnt/d/music/artist/Kyo Hanabasami/【New Single】花鋏キョウ-12 25予約開始『Rainy Monochrome』トレーラー(Monochrome Ver.)【kaleidscope】【ReAcT リアクト Vtuber】.ogg'\n",
      "Error in /mnt/d/music/artist/Kyo Hanabasami/【New Single】花鋏キョウ-12 25予約開始『Rainy Monochrome』トレーラー(Monochrome Ver.)【kaleidscope】【ReAcT リアクト Vtuber】.ogg /mnt/d/music/artist/Kyo Hanabasami/single/Rainy.ogg\n",
      "[Errno 2] No such file or directory: '/mnt/d/music/artist/Kyo Hanabasami/【New Single】花鋏キョウ-12 25予約開始『Rainy Monochrome』トレーラー(Rainy Ver.)【kaleidscope】【ReAcT リアクト Vtuber】.ogg'\n",
      "Error in /mnt/d/music/artist/Kyo Hanabasami/【New Single】花鋏キョウ-12 25予約開始『Rainy Monochrome』トレーラー(Rainy Ver.)【kaleidscope】【ReAcT リアクト Vtuber】.ogg /mnt/d/music/artist/Kyo Hanabasami/single/Rainy.ogg\n"
     ]
    },
    {
     "name": "stderr",
     "output_type": "stream",
     "text": [
      "100%|██████████| 95/95 [00:00<00:00, 191.56it/s]"
     ]
    },
    {
     "name": "stdout",
     "output_type": "stream",
     "text": [
      "[success] Move incoming files to album directory\n"
     ]
    },
    {
     "name": "stderr",
     "output_type": "stream",
     "text": [
      "\n"
     ]
    }
   ],
   "source": [
    "set_tags_album(\n",
    "    artist=artist,\n",
    "    album=DEFAULT_VIDEO_ALBUM,\n",
    "    date=None\n",
    ")"
   ]
  }
 ],
 "metadata": {
  "kernelspec": {
   "display_name": "base",
   "language": "python",
   "name": "python3"
  },
  "language_info": {
   "codemirror_mode": {
    "name": "ipython",
    "version": 3
   },
   "file_extension": ".py",
   "mimetype": "text/x-python",
   "name": "python",
   "nbconvert_exporter": "python",
   "pygments_lexer": "ipython3",
   "version": "3.10.12"
  }
 },
 "nbformat": 4,
 "nbformat_minor": 2
}
