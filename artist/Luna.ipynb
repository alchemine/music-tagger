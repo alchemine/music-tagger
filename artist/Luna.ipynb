{
 "cells": [
  {
   "cell_type": "code",
   "execution_count": 1,
   "metadata": {},
   "outputs": [],
   "source": [
    "from _utils import set_tags_album, DEFAULT_MUSIC_ALBUM, DEFAULT_VIDEO_ALBUM\n",
    "\n",
    "artist = \"*Luna\""
   ]
  },
  {
   "cell_type": "code",
   "execution_count": null,
   "metadata": {},
   "outputs": [],
   "source": [
    "set_tags_album(\n",
    "    artist=artist,\n",
    "    album=\"Bed Time Story\",\n",
    "    date=\"2023\",\n",
    ")"
   ]
  },
  {
   "cell_type": "code",
   "execution_count": null,
   "metadata": {},
   "outputs": [],
   "source": [
    "set_tags_album(\n",
    "    artist=artist,\n",
    "    album=\"Nobody\",\n",
    "    date=\"2023\",\n",
    ")"
   ]
  },
  {
   "cell_type": "code",
   "execution_count": null,
   "metadata": {},
   "outputs": [],
   "source": [
    "set_tags_album(\n",
    "    artist=artist,\n",
    "    album=\"OVERHAUL(Remix)\",\n",
    "    date=\"2024\",\n",
    ")"
   ]
  },
  {
   "cell_type": "code",
   "execution_count": null,
   "metadata": {},
   "outputs": [],
   "source": [
    "set_tags_album(\n",
    "    artist=artist,\n",
    "    album=\"OVERHAUL(Remix)\",\n",
    "    date=\"2023\",\n",
    ")"
   ]
  },
  {
   "cell_type": "code",
   "execution_count": null,
   "metadata": {},
   "outputs": [],
   "source": [
    "set_tags_album(\n",
    "    artist=artist,\n",
    "    album=DEFAULT_MUSIC_ALBUM,\n",
    "    date=None\n",
    ")"
   ]
  },
  {
   "cell_type": "code",
   "execution_count": 2,
   "metadata": {},
   "outputs": [
    {
     "name": "stderr",
     "output_type": "stream",
     "text": [
      "100%|██████████| 88/88 [00:20<00:00,  4.27it/s]\n"
     ]
    },
    {
     "name": "stdout",
     "output_type": "stream",
     "text": [
      "[success] Set tags\n"
     ]
    },
    {
     "name": "stderr",
     "output_type": "stream",
     "text": [
      "100%|██████████| 3608/3608 [00:00<00:00, 105921.07it/s]\n",
      "100%|██████████| 88/88 [00:00<00:00, 160.22it/s]"
     ]
    },
    {
     "name": "stdout",
     "output_type": "stream",
     "text": [
      "[success] Move incoming files to album directory\n"
     ]
    },
    {
     "name": "stderr",
     "output_type": "stream",
     "text": [
      "\n"
     ]
    }
   ],
   "source": [
    "set_tags_album(\n",
    "    artist=artist,\n",
    "    album=DEFAULT_VIDEO_ALBUM,\n",
    "    date=None\n",
    ")"
   ]
  }
 ],
 "metadata": {
  "kernelspec": {
   "display_name": "base",
   "language": "python",
   "name": "python3"
  },
  "language_info": {
   "codemirror_mode": {
    "name": "ipython",
    "version": 3
   },
   "file_extension": ".py",
   "mimetype": "text/x-python",
   "name": "python",
   "nbconvert_exporter": "python",
   "pygments_lexer": "ipython3",
   "version": "3.10.12"
  }
 },
 "nbformat": 4,
 "nbformat_minor": 2
}
